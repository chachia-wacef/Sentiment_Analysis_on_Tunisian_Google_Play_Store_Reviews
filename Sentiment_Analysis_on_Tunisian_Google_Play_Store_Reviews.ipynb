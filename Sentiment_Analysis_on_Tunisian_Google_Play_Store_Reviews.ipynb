{
  "nbformat": 4,
  "nbformat_minor": 0,
  "metadata": {
    "kernelspec": {
      "name": "python3",
      "display_name": "Python 3",
      "language": "python"
    },
    "language_info": {
      "name": "python",
      "version": "3.7.6",
      "mimetype": "text/x-python",
      "codemirror_mode": {
        "name": "ipython",
        "version": 3
      },
      "pygments_lexer": "ipython3",
      "nbconvert_exporter": "python",
      "file_extension": ".py"
    },
    "colab": {
      "name": "Sentiment_Analysis_on_Tunisian_Google_Play_Store_Reviews.ipynb",
      "provenance": [],
      "collapsed_sections": []
    }
  },
  "cells": [
    {
      "cell_type": "code",
      "metadata": {
        "_uuid": "d629ff2d2480ee46fbb7e2d37f6b5fab8052498a",
        "_cell_guid": "79c7e3d0-c299-4dcb-8224-4455121ee9b0",
        "trusted": true,
        "id": "niIVM6OfaDrI"
      },
      "source": [
        "import pandas as pd\n",
        "from nltk.tokenize import word_tokenize\n",
        "from sklearn import linear_model\n",
        "from sklearn import metrics\n",
        "from sklearn import model_selection\n",
        "from sklearn.feature_extraction.text import CountVectorizer"
      ],
      "execution_count": null,
      "outputs": []
    },
    {
      "cell_type": "code",
      "metadata": {
        "trusted": true,
        "id": "qioc69qpaDrK"
      },
      "source": [
        "train = pd.read_csv('/content/Train.csv')\n",
        "test = pd.read_csv('/content/Test.csv')\n",
        "sub = pd.read_csv('/content/SampleSubmission.csv')"
      ],
      "execution_count": null,
      "outputs": []
    },
    {
      "cell_type": "code",
      "metadata": {
        "trusted": true,
        "id": "-hO4rLZ-aDrL"
      },
      "source": [
        "train = train.sample(frac=1).reset_index(drop=True)"
      ],
      "execution_count": null,
      "outputs": []
    },
    {
      "cell_type": "code",
      "metadata": {
        "trusted": true,
        "id": "-VtCY1ZhaDrM"
      },
      "source": [
        "y = train.score.values"
      ],
      "execution_count": null,
      "outputs": []
    },
    {
      "cell_type": "code",
      "metadata": {
        "trusted": true,
        "colab": {
          "base_uri": "https://localhost:8080/",
          "height": 935
        },
        "id": "pPvYzDcUaDrO",
        "outputId": "255c7fae-c424-4370-ec2e-9ee26f1137b6"
      },
      "source": [
        "train.head(30)"
      ],
      "execution_count": null,
      "outputs": [
        {
          "output_type": "execute_result",
          "data": {
            "text/html": [
              "<div>\n",
              "<style scoped>\n",
              "    .dataframe tbody tr th:only-of-type {\n",
              "        vertical-align: middle;\n",
              "    }\n",
              "\n",
              "    .dataframe tbody tr th {\n",
              "        vertical-align: top;\n",
              "    }\n",
              "\n",
              "    .dataframe thead th {\n",
              "        text-align: right;\n",
              "    }\n",
              "</style>\n",
              "<table border=\"1\" class=\"dataframe\">\n",
              "  <thead>\n",
              "    <tr style=\"text-align: right;\">\n",
              "      <th></th>\n",
              "      <th>ID</th>\n",
              "      <th>content</th>\n",
              "      <th>score</th>\n",
              "    </tr>\n",
              "  </thead>\n",
              "  <tbody>\n",
              "    <tr>\n",
              "      <th>0</th>\n",
              "      <td>113733</td>\n",
              "      <td>حلو جدا اوى خالص</td>\n",
              "      <td>1</td>\n",
              "    </tr>\n",
              "    <tr>\n",
              "      <th>1</th>\n",
              "      <td>10380</td>\n",
              "      <td>Je n arrive pas à me connecter sur l applicati...</td>\n",
              "      <td>0</td>\n",
              "    </tr>\n",
              "    <tr>\n",
              "      <th>2</th>\n",
              "      <td>120608</td>\n",
              "      <td>Alimentation de la carte n est pas tjs disponible</td>\n",
              "      <td>0</td>\n",
              "    </tr>\n",
              "    <tr>\n",
              "      <th>3</th>\n",
              "      <td>126590</td>\n",
              "      <td>gcgcc</td>\n",
              "      <td>1</td>\n",
              "    </tr>\n",
              "    <tr>\n",
              "      <th>4</th>\n",
              "      <td>86818</td>\n",
              "      <td>معقول بس البحث فيه سئ</td>\n",
              "      <td>1</td>\n",
              "    </tr>\n",
              "    <tr>\n",
              "      <th>5</th>\n",
              "      <td>80707</td>\n",
              "      <td>هذا من فضل الله</td>\n",
              "      <td>1</td>\n",
              "    </tr>\n",
              "    <tr>\n",
              "      <th>6</th>\n",
              "      <td>131938</td>\n",
              "      <td>Bonnz app</td>\n",
              "      <td>1</td>\n",
              "    </tr>\n",
              "    <tr>\n",
              "      <th>7</th>\n",
              "      <td>7038</td>\n",
              "      <td>Ja jure aujourd hui il y a mega hamza vendredi...</td>\n",
              "      <td>-1</td>\n",
              "    </tr>\n",
              "    <tr>\n",
              "      <th>8</th>\n",
              "      <td>136644</td>\n",
              "      <td>Bonjour ,  Je narrive pas a ajouté des bénéfic...</td>\n",
              "      <td>-1</td>\n",
              "    </tr>\n",
              "    <tr>\n",
              "      <th>9</th>\n",
              "      <td>11706</td>\n",
              "      <td>Bon application continue</td>\n",
              "      <td>1</td>\n",
              "    </tr>\n",
              "    <tr>\n",
              "      <th>10</th>\n",
              "      <td>63697</td>\n",
              "      <td>Ils ne sont pas professionnel</td>\n",
              "      <td>-1</td>\n",
              "    </tr>\n",
              "    <tr>\n",
              "      <th>11</th>\n",
              "      <td>68574</td>\n",
              "      <td>سراقين تربحو شعر</td>\n",
              "      <td>-1</td>\n",
              "    </tr>\n",
              "    <tr>\n",
              "      <th>12</th>\n",
              "      <td>139179</td>\n",
              "      <td>أهر ب يا محسن من  دلندة</td>\n",
              "      <td>1</td>\n",
              "    </tr>\n",
              "    <tr>\n",
              "      <th>13</th>\n",
              "      <td>15768</td>\n",
              "      <td>Jumia est nul et jumia ne respecte pas ses eng...</td>\n",
              "      <td>-1</td>\n",
              "    </tr>\n",
              "    <tr>\n",
              "      <th>14</th>\n",
              "      <td>13554</td>\n",
              "      <td>expédition rapide. japprécie.</td>\n",
              "      <td>1</td>\n",
              "    </tr>\n",
              "    <tr>\n",
              "      <th>15</th>\n",
              "      <td>140046</td>\n",
              "      <td>Impossible de payé par carte bancaire que se s...</td>\n",
              "      <td>-1</td>\n",
              "    </tr>\n",
              "    <tr>\n",
              "      <th>16</th>\n",
              "      <td>50742</td>\n",
              "      <td>service formidable</td>\n",
              "      <td>1</td>\n",
              "    </tr>\n",
              "    <tr>\n",
              "      <th>17</th>\n",
              "      <td>8770</td>\n",
              "      <td>Très bon site d achats mais d une qualité moyenne</td>\n",
              "      <td>0</td>\n",
              "    </tr>\n",
              "    <tr>\n",
              "      <th>18</th>\n",
              "      <td>88649</td>\n",
              "      <td>الله واكبر</td>\n",
              "      <td>1</td>\n",
              "    </tr>\n",
              "    <tr>\n",
              "      <th>19</th>\n",
              "      <td>80626</td>\n",
              "      <td>التطبيق رهيب جدا و رائع ولكن ارجو منكم ان تحسن...</td>\n",
              "      <td>1</td>\n",
              "    </tr>\n",
              "    <tr>\n",
              "      <th>20</th>\n",
              "      <td>13570</td>\n",
              "      <td>Il y a trop de faux appareils</td>\n",
              "      <td>-1</td>\n",
              "    </tr>\n",
              "    <tr>\n",
              "      <th>21</th>\n",
              "      <td>67914</td>\n",
              "      <td>تطبيق ممتاز سهل و يوفر مجموعة من الإختيارات</td>\n",
              "      <td>1</td>\n",
              "    </tr>\n",
              "    <tr>\n",
              "      <th>22</th>\n",
              "      <td>136205</td>\n",
              "      <td>Lapplication nest pas stable Toujours il y a d...</td>\n",
              "      <td>-1</td>\n",
              "    </tr>\n",
              "    <tr>\n",
              "      <th>23</th>\n",
              "      <td>19825</td>\n",
              "      <td>Jadore cet application</td>\n",
              "      <td>1</td>\n",
              "    </tr>\n",
              "    <tr>\n",
              "      <th>24</th>\n",
              "      <td>21270</td>\n",
              "      <td>je trouve cool ce marché</td>\n",
              "      <td>1</td>\n",
              "    </tr>\n",
              "    <tr>\n",
              "      <th>25</th>\n",
              "      <td>4513</td>\n",
              "      <td>Je suis très satisfaite du produit du JUMiA. C...</td>\n",
              "      <td>1</td>\n",
              "    </tr>\n",
              "    <tr>\n",
              "      <th>26</th>\n",
              "      <td>41280</td>\n",
              "      <td>Igerrez ayendin</td>\n",
              "      <td>1</td>\n",
              "    </tr>\n",
              "    <tr>\n",
              "      <th>27</th>\n",
              "      <td>86008</td>\n",
              "      <td>تطبيق ممتاز وفعلا فيه تخفيضات كتير اوي استمتع ...</td>\n",
              "      <td>1</td>\n",
              "    </tr>\n",
              "    <tr>\n",
              "      <th>28</th>\n",
              "      <td>112173</td>\n",
              "      <td>طلبت منتج وجالي منتج تاني غلط عطوني قسيمة شراء...</td>\n",
              "      <td>-1</td>\n",
              "    </tr>\n",
              "    <tr>\n",
              "      <th>29</th>\n",
              "      <td>121291</td>\n",
              "      <td>Application très pratique et très utile  Bravo</td>\n",
              "      <td>1</td>\n",
              "    </tr>\n",
              "  </tbody>\n",
              "</table>\n",
              "</div>"
            ],
            "text/plain": [
              "        ID                                            content  score\n",
              "0   113733                                   حلو جدا اوى خالص      1\n",
              "1    10380  Je n arrive pas à me connecter sur l applicati...      0\n",
              "2   120608  Alimentation de la carte n est pas tjs disponible      0\n",
              "3   126590                                              gcgcc      1\n",
              "4    86818                              معقول بس البحث فيه سئ      1\n",
              "5    80707                                    هذا من فضل الله      1\n",
              "6   131938                                          Bonnz app      1\n",
              "7     7038  Ja jure aujourd hui il y a mega hamza vendredi...     -1\n",
              "8   136644  Bonjour ,  Je narrive pas a ajouté des bénéfic...     -1\n",
              "9    11706                           Bon application continue      1\n",
              "10   63697                      Ils ne sont pas professionnel     -1\n",
              "11   68574                                   سراقين تربحو شعر     -1\n",
              "12  139179                            أهر ب يا محسن من  دلندة      1\n",
              "13   15768  Jumia est nul et jumia ne respecte pas ses eng...     -1\n",
              "14   13554                      expédition rapide. japprécie.      1\n",
              "15  140046  Impossible de payé par carte bancaire que se s...     -1\n",
              "16   50742                                 service formidable      1\n",
              "17    8770  Très bon site d achats mais d une qualité moyenne      0\n",
              "18   88649                                         الله واكبر      1\n",
              "19   80626  التطبيق رهيب جدا و رائع ولكن ارجو منكم ان تحسن...      1\n",
              "20   13570                      Il y a trop de faux appareils     -1\n",
              "21   67914        تطبيق ممتاز سهل و يوفر مجموعة من الإختيارات      1\n",
              "22  136205  Lapplication nest pas stable Toujours il y a d...     -1\n",
              "23   19825                             Jadore cet application      1\n",
              "24   21270                           je trouve cool ce marché      1\n",
              "25    4513  Je suis très satisfaite du produit du JUMiA. C...      1\n",
              "26   41280                                    Igerrez ayendin      1\n",
              "27   86008  تطبيق ممتاز وفعلا فيه تخفيضات كتير اوي استمتع ...      1\n",
              "28  112173  طلبت منتج وجالي منتج تاني غلط عطوني قسيمة شراء...     -1\n",
              "29  121291     Application très pratique et très utile  Bravo      1"
            ]
          },
          "metadata": {
            "tags": []
          },
          "execution_count": 7
        }
      ]
    },
    {
      "cell_type": "code",
      "metadata": {
        "id": "X4cEJ7SkN72O"
      },
      "source": [
        "train['len_text'] = train['content'].apply(len)\r\n",
        "test['len_text'] = test['content'].apply(len)"
      ],
      "execution_count": null,
      "outputs": []
    },
    {
      "cell_type": "code",
      "metadata": {
        "colab": {
          "base_uri": "https://localhost:8080/",
          "height": 284
        },
        "id": "cvHYvQpEOIG4",
        "outputId": "4d273469-2c15-4434-afb3-145d97f4cd9c"
      },
      "source": [
        "test.describe()"
      ],
      "execution_count": null,
      "outputs": [
        {
          "output_type": "execute_result",
          "data": {
            "text/html": [
              "<div>\n",
              "<style scoped>\n",
              "    .dataframe tbody tr th:only-of-type {\n",
              "        vertical-align: middle;\n",
              "    }\n",
              "\n",
              "    .dataframe tbody tr th {\n",
              "        vertical-align: top;\n",
              "    }\n",
              "\n",
              "    .dataframe thead th {\n",
              "        text-align: right;\n",
              "    }\n",
              "</style>\n",
              "<table border=\"1\" class=\"dataframe\">\n",
              "  <thead>\n",
              "    <tr style=\"text-align: right;\">\n",
              "      <th></th>\n",
              "      <th>ID</th>\n",
              "      <th>len_text</th>\n",
              "    </tr>\n",
              "  </thead>\n",
              "  <tbody>\n",
              "    <tr>\n",
              "      <th>count</th>\n",
              "      <td>19803.000000</td>\n",
              "      <td>19803.000000</td>\n",
              "    </tr>\n",
              "    <tr>\n",
              "      <th>mean</th>\n",
              "      <td>64822.685098</td>\n",
              "      <td>55.590971</td>\n",
              "    </tr>\n",
              "    <tr>\n",
              "      <th>std</th>\n",
              "      <td>44336.687355</td>\n",
              "      <td>71.707666</td>\n",
              "    </tr>\n",
              "    <tr>\n",
              "      <th>min</th>\n",
              "      <td>2.000000</td>\n",
              "      <td>1.000000</td>\n",
              "    </tr>\n",
              "    <tr>\n",
              "      <th>25%</th>\n",
              "      <td>21825.500000</td>\n",
              "      <td>15.000000</td>\n",
              "    </tr>\n",
              "    <tr>\n",
              "      <th>50%</th>\n",
              "      <td>64969.000000</td>\n",
              "      <td>31.000000</td>\n",
              "    </tr>\n",
              "    <tr>\n",
              "      <th>75%</th>\n",
              "      <td>105200.000000</td>\n",
              "      <td>66.000000</td>\n",
              "    </tr>\n",
              "    <tr>\n",
              "      <th>max</th>\n",
              "      <td>142720.000000</td>\n",
              "      <td>1098.000000</td>\n",
              "    </tr>\n",
              "  </tbody>\n",
              "</table>\n",
              "</div>"
            ],
            "text/plain": [
              "                  ID      len_text\n",
              "count   19803.000000  19803.000000\n",
              "mean    64822.685098     55.590971\n",
              "std     44336.687355     71.707666\n",
              "min         2.000000      1.000000\n",
              "25%     21825.500000     15.000000\n",
              "50%     64969.000000     31.000000\n",
              "75%    105200.000000     66.000000\n",
              "max    142720.000000   1098.000000"
            ]
          },
          "metadata": {
            "tags": []
          },
          "execution_count": 12
        }
      ]
    },
    {
      "cell_type": "code",
      "metadata": {
        "id": "iV44RKTRkeRf"
      },
      "source": [
        "fr_stop = 'alors au aucuns aussi autre avant avec avoir bon car ce cela ces ceux chaque ci comme comment dans des du dedans dehors depuis devrait doit donc dos début elle elles en encore essai est et eu fait faites fois font hors ici il ils je\tjuste la le les leur là ma maintenant mais mes mien moins mon mot même ni nommés notre nous ou où par parce pas peut peu plupart pour pourquoi quand que quel quelle quelles quels qui sa sans ses seulement si sien son sont sous soyez\tsujet sur ta tandis tellement tels tes ton tous tout trop très tu voient vont votre vous vu ça étaient état étions été être'.split()\r\n",
        "ar_stop = '، ء ءَ آ آب آذار آض آل آمينَ آناء آنفا آه آهاً آهٍ آهِ أ أبدا أبريل أبو أبٌ أجل أجمع أحد أخبر أخذ أخو أخٌ أربع أربعاء أربعة أربعمئة أربعمائة أرى أسكن أصبح أصلا أضحى أطعم أعطى أعلم أغسطس أفريل أفعل به أفٍّ أقبل أكتوبر أل ألا ألف ألفى أم أما أمام أمامك أمامكَ أمد أمس أمسى أمّا أن أنا أنبأ أنت أنتم أنتما أنتن أنتِ أنشأ أنه أنًّ أنّى أهلا أو أوت أوشك أول أولئك أولاء أولالك أوّهْ أى أي أيا أيار أيضا أيلول أين أيّ أيّان أُفٍّ ؤ إحدى إذ إذا إذاً إذما إذن إزاء إلى إلي إليكم إليكما إليكنّ إليكَ إلَيْكَ إلّا إمّا إن إنَّ إى إياك إياكم إياكما إياكن إيانا إياه إياها إياهم إياهما إياهن إياي إيهٍ ئ ا ا? ا?ى االا االتى ابتدأ ابين اتخذ اثر اثنا اثنان اثني اثنين اجل احد اخرى اخلولق اذا اربعة اربعون اربعين ارتدّ استحال اصبح اضحى اطار اعادة اعلنت اف اكثر اكد الآن الألاء الألى الا الاخيرة الان الاول الاولى التى التي الثاني الثانية الحالي الذاتي الذى الذي الذين السابق الف اللاتي اللتان اللتيا اللتين اللذان اللذين اللواتي الماضي المقبل الوقت الى الي اليه اليها اليوم اما امام امس امسى ان انبرى انقلب انه انها او اول اي ايار ايام ايضا ب بؤسا بإن بئس باء بات باسم بان بخٍ بد بدلا برس بسبب بسّ بشكل بضع بطآن بعد بعدا بعض بغتة بل بلى بن به بها بهذا بيد بين بَسْ بَلْهَ ة ت تاء تارة تاسع تانِ تانِك تبدّل تجاه تحت تحوّل تخذ ترك تسع تسعة تسعمئة تسعمائة تسعون تسعين تشرين تعسا تعلَّم تفعلان تفعلون تفعلين تكون تلقاء تلك تم تموز تينك تَيْنِ تِه تِي ث ثاء ثالث ثامن ثان ثاني ثلاث ثلاثاء ثلاثة ثلاثمئة ثلاثمائة ثلاثون ثلاثين ثم ثمان ثمانمئة ثمانون ثماني ثمانية ثمانين ثمنمئة ثمَّ ثمّ ثمّة ج جانفي جدا جعل جلل جمعة جميع جنيه جوان جويلية جير جيم ح حاء حادي حار حاشا حاليا حاي حبذا حبيب حتى حجا حدَث حرى حزيران حسب حقا حمدا حمو حمٌ حوالى حول حيث حيثما حين حيَّ حَذارِ خ خاء خاصة خال خامس خبَّر خلا خلافا خلال خلف خمس خمسة خمسمئة خمسمائة خمسون خمسين خميس د دال درهم درى دواليك دولار دون دونك ديسمبر دينار ذ ذا ذات ذاك ذال ذانك ذانِ ذلك ذهب ذو ذيت ذينك ذَيْنِ ذِه ذِي ر رأى راء رابع راح رجع رزق رويدك ريال ريث رُبَّ ز زاي زعم زود زيارة س ساء سابع سادس سبت سبتمبر سبحان سبع سبعة سبعمئة سبعمائة سبعون سبعين ست ستة ستكون ستمئة ستمائة ستون ستين سحقا سرا سرعان سقى سمعا سنة سنتيم سنوات سوف سوى سين ش شباط شبه شتانَ شخصا شرع شمال شيكل شين شَتَّانَ ص صاد صار صباح صبر صبرا صدقا صراحة صفر صهٍ صهْ ض ضاد ضحوة ضد ضمن ط طاء طاق طالما طرا طفق طَق ظ ظاء ظل ظلّ ظنَّ ع عاد عاشر عام عاما عامة عجبا عدا عدة عدد عدم عدَّ عسى عشر عشرة عشرون عشرين عل علق علم على علي عليك عليه عليها علًّ عن عند عندما عنه عنها عوض عيانا عين عَدَسْ غ غادر غالبا غدا غداة غير غين ـ ف فإن فاء فان فانه فبراير فرادى فضلا فقد فقط فكان فلان فلس فهو فو فوق فى في فيفري فيه فيها ق قاطبة قاف قال قام قبل قد قرش قطّ قلما قوة ك كأن كأنّ كأيّ كأيّن كاد كاف كان كانت كانون كثيرا كذا كذلك كرب كسا كل كلتا كلم كلَّا كلّما كم كما كن كى كيت كيف كيفما كِخ ل لأن لا لا سيما لات لازال لاسيما لام لايزال لبيك لدن لدى لدي لذلك لعل لعلَّ لعمر لقاء لكن لكنه لكنَّ للامم لم لما لمّا لن له لها لهذا لهم لو لوكالة لولا لوما ليت ليرة ليس ليسب م مئة مئتان ما ما أفعله ما انفك ما برح مائة ماانفك مابرح مادام ماذا مارس مازال مافتئ ماي مايزال مايو متى مثل مذ مرّة مساء مع معاذ معه مقابل مكانكم مكانكما مكانكنّ مكانَك مليار مليم مليون مما من منذ منه منها مه مهما ميم ن نا نبَّا نحن نحو نعم نفس نفسه نهاية نوفمبر نون نيسان نيف نَخْ نَّ ه هؤلاء ها هاء هاكَ هبّ هذا هذه هل هللة هلم هلّا هم هما همزة هن هنا هناك هنالك هو هي هيا هيهات هيّا هَؤلاء هَاتانِ هَاتَيْنِ هَاتِه هَاتِي هَجْ هَذا هَذانِ هَذَيْنِ هَذِه هَذِي هَيْهات و و6 وأبو وأن وا واحد واضاف واضافت واكد والتي والذي وان واهاً واو واوضح وبين وثي وجد وراءَك ورد وعلى وفي وقال وقالت وقد وقف وكان وكانت ولا ولايزال ولكن ولم وله وليس ومع ومن وهب وهذا وهو وهي وَيْ وُشْكَانَ ى ي ياء يفعلان يفعلون يكون يلي يمكن يمين ين يناير يوان يورو يوليو يوم يونيو ّأيّان'.split()"
      ],
      "execution_count": null,
      "outputs": []
    },
    {
      "cell_type": "code",
      "metadata": {
        "id": "MatlJ_DVkePy"
      },
      "source": [
        "#cleaning text"
      ],
      "execution_count": null,
      "outputs": []
    },
    {
      "cell_type": "code",
      "metadata": {
        "id": "OysYl_-mkEzL"
      },
      "source": [
        "from nltk.stem.porter import PorterStemmer\r\n",
        "from nltk.tokenize import RegexpTokenizer\r\n",
        "import re\r\n",
        "def clean_text(text):\r\n",
        "  ps = PorterStemmer() \r\n",
        "  toker = RegexpTokenizer(r'((?<=[^\\w\\s])\\w(?=[^\\w\\s])|(\\W))+', gaps=True)\r\n",
        "  message = []\r\n",
        "  #convertir tous minuscule\r\n",
        "  review = text.lower()\r\n",
        "  #splitter chaque ligne\r\n",
        "  review = toker.tokenize(review)\r\n",
        "  #\r\n",
        "  review = [ps.stem(word) for word in review if not word in fr_stop]\r\n",
        "  review = [word for word in review if not word in ar_stop]\r\n",
        "  review = [word for word in review if not word.isdigit()]\r\n",
        "  #construire de nouveau la ligne\r\n",
        "  res = ' '.join(review)\r\n",
        "  return res\r\n",
        "\r\n",
        "train['clean_content'] = train['content'].apply(clean_text)\r\n",
        "test['clean_content'] = test['content'].apply(clean_text)"
      ],
      "execution_count": null,
      "outputs": []
    },
    {
      "cell_type": "code",
      "metadata": {
        "colab": {
          "base_uri": "https://localhost:8080/"
        },
        "id": "caAS6fI8kEv8",
        "outputId": "4593b3ba-df25-4b07-a79d-26bc8a3b8972"
      },
      "source": [
        "import nltk\r\n",
        "nltk.download('punkt')\r\n",
        "train_df = train\r\n",
        "test_df = test\r\n",
        "\r\n",
        "count_vec = CountVectorizer(tokenizer=word_tokenize,token_pattern=None)\r\n",
        "count_vec.fit(train_df.clean_content)\r\n",
        "\r\n",
        "xtrain = count_vec.transform(train_df.clean_content)\r\n",
        "xtest = count_vec.transform(test_df.clean_content)"
      ],
      "execution_count": null,
      "outputs": [
        {
          "output_type": "stream",
          "text": [
            "[nltk_data] Downloading package punkt to /root/nltk_data...\n",
            "[nltk_data]   Unzipping tokenizers/punkt.zip.\n"
          ],
          "name": "stdout"
        }
      ]
    },
    {
      "cell_type": "code",
      "metadata": {
        "id": "ZNkOjhoBkEtR"
      },
      "source": [
        "model = linear_model.LogisticRegression(max_iter=1000)\r\n",
        "model.fit(xtrain, train_df.score)\r\n",
        "preds = model.predict(xtest)"
      ],
      "execution_count": null,
      "outputs": []
    },
    {
      "cell_type": "code",
      "metadata": {
        "id": "BCTWZbaYkEqR"
      },
      "source": [
        "sub.score = preds\r\n",
        "sub.to_csv('submission5.csv', index=False)"
      ],
      "execution_count": null,
      "outputs": []
    },
    {
      "cell_type": "code",
      "metadata": {
        "id": "p17Fxm6ekEj-",
        "colab": {
          "base_uri": "https://localhost:8080/"
        },
        "outputId": "3d6842d4-d757-4ba9-a8d4-e5af54d4dfe1"
      },
      "source": [
        "xtrain.shape"
      ],
      "execution_count": null,
      "outputs": [
        {
          "output_type": "execute_result",
          "data": {
            "text/plain": [
              "(59408, 55561)"
            ]
          },
          "metadata": {
            "tags": []
          },
          "execution_count": 29
        }
      ]
    },
    {
      "cell_type": "code",
      "metadata": {
        "id": "tznq_qNhkEfN",
        "colab": {
          "base_uri": "https://localhost:8080/"
        },
        "outputId": "b0ff6d4c-92cd-474d-fa64-5e54b234b23a"
      },
      "source": [
        "xtest.shape"
      ],
      "execution_count": null,
      "outputs": [
        {
          "output_type": "execute_result",
          "data": {
            "text/plain": [
              "(19803, 55561)"
            ]
          },
          "metadata": {
            "tags": []
          },
          "execution_count": 30
        }
      ]
    },
    {
      "cell_type": "code",
      "metadata": {
        "id": "LwZ9XuxPkEnT"
      },
      "source": [
        "#modéle2"
      ],
      "execution_count": null,
      "outputs": []
    },
    {
      "cell_type": "code",
      "metadata": {
        "colab": {
          "base_uri": "https://localhost:8080/"
        },
        "id": "XbhSStR3Yako",
        "outputId": "ee413504-c4a4-4aeb-a059-1301f4e41e4c"
      },
      "source": [
        "y"
      ],
      "execution_count": null,
      "outputs": [
        {
          "output_type": "execute_result",
          "data": {
            "text/plain": [
              "array([1, 0, 0, ..., 1, 1, 1])"
            ]
          },
          "metadata": {
            "tags": []
          },
          "execution_count": 49
        }
      ]
    },
    {
      "cell_type": "code",
      "metadata": {
        "colab": {
          "base_uri": "https://localhost:8080/"
        },
        "id": "il0GyyzNTkgH",
        "outputId": "b7fa8f5c-b85c-492b-bc93-b6fcfd19f786"
      },
      "source": [
        "X_train1, X_test1, Y_train1, Y_test1 = train_test_split(xtrain,y, test_size = 0.2, random_state = 42)\r\n",
        "print(X_train1.shape,Y_train1.shape)\r\n",
        "print(X_test1.shape,Y_test1.shape)"
      ],
      "execution_count": null,
      "outputs": [
        {
          "output_type": "stream",
          "text": [
            "(47526, 55561) (47526,)\n",
            "(11882, 55561) (11882,)\n"
          ],
          "name": "stdout"
        }
      ]
    },
    {
      "cell_type": "code",
      "metadata": {
        "id": "Y9zWY9MVXnT1"
      },
      "source": [
        "from sklearn.svm import SVC"
      ],
      "execution_count": null,
      "outputs": []
    },
    {
      "cell_type": "code",
      "metadata": {
        "id": "XyQ7_MqcXnRR"
      },
      "source": [
        "model = SVC(C=100,kernel='rbf',gamma=0.001)"
      ],
      "execution_count": null,
      "outputs": []
    },
    {
      "cell_type": "code",
      "metadata": {
        "colab": {
          "base_uri": "https://localhost:8080/"
        },
        "id": "aqP0KJNjXnOx",
        "outputId": "511255f4-40e0-44a7-b37c-9dbedba2ca20"
      },
      "source": [
        "model.fit(X_train1,Y_train1)"
      ],
      "execution_count": null,
      "outputs": [
        {
          "output_type": "execute_result",
          "data": {
            "text/plain": [
              "SVC(C=100, break_ties=False, cache_size=200, class_weight=None, coef0=0.0,\n",
              "    decision_function_shape='ovr', degree=3, gamma=0.001, kernel='rbf',\n",
              "    max_iter=-1, probability=False, random_state=None, shrinking=True,\n",
              "    tol=0.001, verbose=False)"
            ]
          },
          "metadata": {
            "tags": []
          },
          "execution_count": 53
        }
      ]
    },
    {
      "cell_type": "code",
      "metadata": {
        "id": "nM7sJPS3XnMS"
      },
      "source": [
        "y_pred = model.predict(X_test1)"
      ],
      "execution_count": null,
      "outputs": []
    },
    {
      "cell_type": "code",
      "metadata": {
        "colab": {
          "base_uri": "https://localhost:8080/"
        },
        "id": "Wa_C3DDoXnJQ",
        "outputId": "3e4717ec-b0a3-4b50-fe8e-ee61423c65eb"
      },
      "source": [
        "from sklearn.metrics import accuracy_score\r\n",
        "accuracy_score(y_pred,Y_test1)"
      ],
      "execution_count": null,
      "outputs": [
        {
          "output_type": "execute_result",
          "data": {
            "text/plain": [
              "0.7923750210402289"
            ]
          },
          "metadata": {
            "tags": []
          },
          "execution_count": 55
        }
      ]
    },
    {
      "cell_type": "code",
      "metadata": {
        "id": "-LlObGbKbLTy"
      },
      "source": [
        "y_pred = model.predict(xtest)\r\n",
        "sub.score = y_pred\r\n",
        "sub.to_csv('submission6.csv', index=False)"
      ],
      "execution_count": null,
      "outputs": []
    },
    {
      "cell_type": "code",
      "metadata": {
        "id": "1gFEBKNIXm7Y"
      },
      "source": [
        "##########################################\"\""
      ],
      "execution_count": null,
      "outputs": []
    },
    {
      "cell_type": "code",
      "metadata": {
        "id": "rkhQwsWCXm4w"
      },
      "source": [
        "from keras.preprocessing.text import Tokenizer\r\n",
        "from keras.preprocessing.sequence import pad_sequences\r\n",
        "\r\n",
        "max_features = 2000\r\n",
        "tokenizer = Tokenizer(num_words=max_features, split=' ')\r\n",
        "tokenizer.fit_on_texts(train['clean_content'].values)\r\n",
        "X1 = tokenizer.texts_to_sequences(train['clean_content'].values)\r\n",
        "X2 = tokenizer.texts_to_sequences(test['clean_content'].values)\r\n"
      ],
      "execution_count": null,
      "outputs": []
    },
    {
      "cell_type": "code",
      "metadata": {
        "id": "RabFrv9PUDFp"
      },
      "source": [
        "df1 = train[['ID','clean_content']].copy()\r\n",
        "df2 = test[['ID','clean_content']].copy()"
      ],
      "execution_count": null,
      "outputs": []
    },
    {
      "cell_type": "code",
      "metadata": {
        "colab": {
          "base_uri": "https://localhost:8080/"
        },
        "id": "exBQkGEKhFSF",
        "outputId": "6a5d2f5d-23e1-4445-b5a0-5fe76e953109"
      },
      "source": [
        "df1.shape"
      ],
      "execution_count": null,
      "outputs": [
        {
          "output_type": "execute_result",
          "data": {
            "text/plain": [
              "(59408, 2)"
            ]
          },
          "metadata": {
            "tags": []
          },
          "execution_count": 73
        }
      ]
    },
    {
      "cell_type": "code",
      "metadata": {
        "colab": {
          "base_uri": "https://localhost:8080/"
        },
        "id": "3-OTB74UhH9_",
        "outputId": "42e83d56-e072-4a7d-842d-340d15a34a42"
      },
      "source": [
        "df2.shape"
      ],
      "execution_count": null,
      "outputs": [
        {
          "output_type": "execute_result",
          "data": {
            "text/plain": [
              "(19803, 2)"
            ]
          },
          "metadata": {
            "tags": []
          },
          "execution_count": 75
        }
      ]
    },
    {
      "cell_type": "code",
      "metadata": {
        "colab": {
          "base_uri": "https://localhost:8080/"
        },
        "id": "-TOuIFIJhVPt",
        "outputId": "f50682a6-ee9e-4608-f8e8-6b60f8485b12"
      },
      "source": [
        "df3 = pd.concat([df1,df2])\r\n",
        "df3.shape"
      ],
      "execution_count": null,
      "outputs": [
        {
          "output_type": "execute_result",
          "data": {
            "text/plain": [
              "(79211, 2)"
            ]
          },
          "metadata": {
            "tags": []
          },
          "execution_count": 76
        }
      ]
    },
    {
      "cell_type": "code",
      "metadata": {
        "colab": {
          "base_uri": "https://localhost:8080/",
          "height": 195
        },
        "id": "POCjwwHUiBy5",
        "outputId": "176b4d47-b8b7-4e79-ea76-ae70571705c6"
      },
      "source": [
        "df3.head()"
      ],
      "execution_count": null,
      "outputs": [
        {
          "output_type": "execute_result",
          "data": {
            "text/html": [
              "<div>\n",
              "<style scoped>\n",
              "    .dataframe tbody tr th:only-of-type {\n",
              "        vertical-align: middle;\n",
              "    }\n",
              "\n",
              "    .dataframe tbody tr th {\n",
              "        vertical-align: top;\n",
              "    }\n",
              "\n",
              "    .dataframe thead th {\n",
              "        text-align: right;\n",
              "    }\n",
              "</style>\n",
              "<table border=\"1\" class=\"dataframe\">\n",
              "  <thead>\n",
              "    <tr style=\"text-align: right;\">\n",
              "      <th></th>\n",
              "      <th>ID</th>\n",
              "      <th>clean_content</th>\n",
              "    </tr>\n",
              "  </thead>\n",
              "  <tbody>\n",
              "    <tr>\n",
              "      <th>0</th>\n",
              "      <td>113733</td>\n",
              "      <td>حلو         اوى     خالص</td>\n",
              "    </tr>\n",
              "    <tr>\n",
              "      <th>1</th>\n",
              "      <td>10380</td>\n",
              "      <td>n     arriv         à     me     connect  ...</td>\n",
              "    </tr>\n",
              "    <tr>\n",
              "      <th>2</th>\n",
              "      <td>120608</td>\n",
              "      <td>aliment     de         cart     n             ...</td>\n",
              "    </tr>\n",
              "    <tr>\n",
              "      <th>3</th>\n",
              "      <td>126590</td>\n",
              "      <td>gcgcc</td>\n",
              "    </tr>\n",
              "    <tr>\n",
              "      <th>4</th>\n",
              "      <td>86818</td>\n",
              "      <td>معقول     بس     البحث         سئ</td>\n",
              "    </tr>\n",
              "  </tbody>\n",
              "</table>\n",
              "</div>"
            ],
            "text/plain": [
              "       ID                                      clean_content\n",
              "0  113733                           حلو         اوى     خالص\n",
              "1   10380      n     arriv         à     me     connect  ...\n",
              "2  120608  aliment     de         cart     n             ...\n",
              "3  126590                                              gcgcc\n",
              "4   86818                  معقول     بس     البحث         سئ"
            ]
          },
          "metadata": {
            "tags": []
          },
          "execution_count": 77
        }
      ]
    },
    {
      "cell_type": "code",
      "metadata": {
        "id": "TfPcxCGeh42D"
      },
      "source": [
        "from sklearn.feature_extraction.text import CountVectorizer\r\n",
        "from keras.preprocessing.text import Tokenizer\r\n",
        "from keras.preprocessing.sequence import pad_sequences\r\n",
        "\r\n",
        "max_features = 3000\r\n",
        "tokenizer = Tokenizer(num_words=max_features, split=' ')\r\n",
        "tokenizer.fit_on_texts(df3['clean_content'].values)\r\n",
        "X = tokenizer.texts_to_sequences(df3['clean_content'].values)\r\n",
        "X = pad_sequences(X)\r\n",
        "\r\n"
      ],
      "execution_count": null,
      "outputs": []
    },
    {
      "cell_type": "code",
      "metadata": {
        "colab": {
          "base_uri": "https://localhost:8080/"
        },
        "id": "E54q0HzqimZd",
        "outputId": "76f3a614-3a95-477b-bfbf-1143d3dcd728"
      },
      "source": [
        "X.shape"
      ],
      "execution_count": null,
      "outputs": [
        {
          "output_type": "execute_result",
          "data": {
            "text/plain": [
              "(79211, 150)"
            ]
          },
          "metadata": {
            "tags": []
          },
          "execution_count": 81
        }
      ]
    },
    {
      "cell_type": "code",
      "metadata": {
        "id": "BROPVxhYiowM"
      },
      "source": [
        "X1 = X[:59408]"
      ],
      "execution_count": null,
      "outputs": []
    },
    {
      "cell_type": "code",
      "metadata": {
        "id": "fF9atytui8uH"
      },
      "source": [
        "X2 = X[59408:]"
      ],
      "execution_count": null,
      "outputs": []
    },
    {
      "cell_type": "code",
      "metadata": {
        "id": "HWkQAeWrjFu3"
      },
      "source": [
        "from keras.models import Sequential\r\n",
        "from keras.layers import Dense, Embedding, LSTM, SpatialDropout1D\r\n",
        "from sklearn.model_selection import train_test_split\r\n",
        "from keras.utils.np_utils import to_categorical\r\n",
        "import re"
      ],
      "execution_count": null,
      "outputs": []
    },
    {
      "cell_type": "code",
      "metadata": {
        "colab": {
          "base_uri": "https://localhost:8080/"
        },
        "id": "Z-Doax4vjOuZ",
        "outputId": "fb7b738d-5aa1-44a0-f469-5c64708cd582"
      },
      "source": [
        "embed_dim = 128\r\n",
        "lstm_out = 196\r\n",
        "\r\n",
        "model = Sequential()\r\n",
        "model.add(Embedding(max_fatures, embed_dim,input_length = X1.shape[1]))\r\n",
        "model.add(SpatialDropout1D(0.4))\r\n",
        "model.add(LSTM(lstm_out, dropout=0.2, recurrent_dropout=0.2))\r\n",
        "model.add(Dense(3,activation='softmax'))\r\n",
        "model.compile(loss = 'categorical_crossentropy', optimizer='adam',metrics = ['accuracy'])\r\n",
        "print(model.summary())\r\n"
      ],
      "execution_count": null,
      "outputs": [
        {
          "output_type": "stream",
          "text": [
            "Model: \"sequential_16\"\n",
            "_________________________________________________________________\n",
            "Layer (type)                 Output Shape              Param #   \n",
            "=================================================================\n",
            "embedding_13 (Embedding)     (None, 150, 128)          384000    \n",
            "_________________________________________________________________\n",
            "spatial_dropout1d_13 (Spatia (None, 150, 128)          0         \n",
            "_________________________________________________________________\n",
            "lstm_15 (LSTM)               (None, 196)               254800    \n",
            "_________________________________________________________________\n",
            "dense_18 (Dense)             (None, 3)                 591       \n",
            "=================================================================\n",
            "Total params: 639,391\n",
            "Trainable params: 639,391\n",
            "Non-trainable params: 0\n",
            "_________________________________________________________________\n",
            "None\n"
          ],
          "name": "stdout"
        }
      ]
    },
    {
      "cell_type": "code",
      "metadata": {
        "colab": {
          "base_uri": "https://localhost:8080/"
        },
        "id": "7jV3Hj-EjW60",
        "outputId": "30fc2ce0-e9f2-415a-e3bf-98d51b972f6d"
      },
      "source": [
        "Y1 = pd.get_dummies(train['score']).values\r\n",
        "X_train1, X_test1, Y_train1, Y_test1 = train_test_split(X1,Y1, test_size = 0.25, random_state = 42)\r\n",
        "print(X_train1.shape,Y_train1.shape)\r\n",
        "print(X_test1.shape,Y_test1.shape)\r\n"
      ],
      "execution_count": null,
      "outputs": [
        {
          "output_type": "stream",
          "text": [
            "(44556, 150) (44556, 3)\n",
            "(14852, 150) (14852, 3)\n"
          ],
          "name": "stdout"
        }
      ]
    },
    {
      "cell_type": "code",
      "metadata": {
        "colab": {
          "base_uri": "https://localhost:8080/"
        },
        "id": "quBMASNzjyD5",
        "outputId": "68e93033-5151-4a2e-a7c7-958b92259a4b"
      },
      "source": [
        "batch_size = 64\r\n",
        "model.fit(X_train1, Y_train1, epochs = 15, batch_size=batch_size,validation_data=(X_test1,Y_test1))"
      ],
      "execution_count": null,
      "outputs": [
        {
          "output_type": "stream",
          "text": [
            "Epoch 1/15\n",
            "697/697 [==============================] - 710s 1s/step - loss: 0.6110 - accuracy: 0.7698 - val_loss: 0.5542 - val_accuracy: 0.7933\n",
            "Epoch 2/15\n",
            "697/697 [==============================] - 714s 1s/step - loss: 0.5264 - accuracy: 0.8069 - val_loss: 0.5518 - val_accuracy: 0.7923\n",
            "Epoch 3/15\n",
            "697/697 [==============================] - 714s 1s/step - loss: 0.5045 - accuracy: 0.8146 - val_loss: 0.5464 - val_accuracy: 0.7934\n",
            "Epoch 4/15\n",
            "697/697 [==============================] - 772s 1s/step - loss: 0.4880 - accuracy: 0.8191 - val_loss: 0.5567 - val_accuracy: 0.7917\n",
            "Epoch 5/15\n",
            "697/697 [==============================] - 784s 1s/step - loss: 0.4743 - accuracy: 0.8239 - val_loss: 0.5701 - val_accuracy: 0.7908\n",
            "Epoch 6/15\n",
            "697/697 [==============================] - 781s 1s/step - loss: 0.4619 - accuracy: 0.8275 - val_loss: 0.5873 - val_accuracy: 0.7892\n",
            "Epoch 7/15\n",
            "697/697 [==============================] - 777s 1s/step - loss: 0.4504 - accuracy: 0.8320 - val_loss: 0.6011 - val_accuracy: 0.7895\n",
            "Epoch 8/15\n",
            "697/697 [==============================] - 779s 1s/step - loss: 0.4355 - accuracy: 0.8380 - val_loss: 0.6015 - val_accuracy: 0.7899\n",
            "Epoch 9/15\n",
            "697/697 [==============================] - 744s 1s/step - loss: 0.4249 - accuracy: 0.8407 - val_loss: 0.6233 - val_accuracy: 0.7838\n",
            "Epoch 10/15\n",
            "697/697 [==============================] - 723s 1s/step - loss: 0.4107 - accuracy: 0.8467 - val_loss: 0.6436 - val_accuracy: 0.7830\n",
            "Epoch 11/15\n",
            "697/697 [==============================] - 718s 1s/step - loss: 0.4008 - accuracy: 0.8509 - val_loss: 0.6518 - val_accuracy: 0.7771\n",
            "Epoch 12/15\n",
            "697/697 [==============================] - 718s 1s/step - loss: 0.3898 - accuracy: 0.8561 - val_loss: 0.6855 - val_accuracy: 0.7765\n",
            "Epoch 13/15\n",
            "697/697 [==============================] - 742s 1s/step - loss: 0.3766 - accuracy: 0.8613 - val_loss: 0.7023 - val_accuracy: 0.7752\n",
            "Epoch 14/15\n",
            "697/697 [==============================] - 777s 1s/step - loss: 0.3693 - accuracy: 0.8629 - val_loss: 0.7312 - val_accuracy: 0.7758\n",
            "Epoch 15/15\n",
            "697/697 [==============================] - 729s 1s/step - loss: 0.3587 - accuracy: 0.8672 - val_loss: 0.7665 - val_accuracy: 0.7752\n"
          ],
          "name": "stdout"
        },
        {
          "output_type": "execute_result",
          "data": {
            "text/plain": [
              "<tensorflow.python.keras.callbacks.History at 0x7f78873d1fd0>"
            ]
          },
          "metadata": {
            "tags": []
          },
          "execution_count": 139
        }
      ]
    },
    {
      "cell_type": "code",
      "metadata": {
        "id": "atB-CPYkBkhC"
      },
      "source": [
        "res = model.predict(X2)"
      ],
      "execution_count": null,
      "outputs": []
    },
    {
      "cell_type": "code",
      "metadata": {
        "colab": {
          "base_uri": "https://localhost:8080/"
        },
        "id": "op7r3uhoBke0",
        "outputId": "9899c77b-aa55-4ffb-8693-030027478a5a"
      },
      "source": [
        "res"
      ],
      "execution_count": null,
      "outputs": [
        {
          "output_type": "execute_result",
          "data": {
            "text/plain": [
              "array([[9.51933682e-01, 3.88375372e-02, 9.22881067e-03],\n",
              "       [9.99961853e-01, 2.96823418e-05, 8.48424679e-06],\n",
              "       [9.99809682e-01, 3.20253312e-05, 1.58335257e-04],\n",
              "       ...,\n",
              "       [4.12136972e-01, 1.45696034e-03, 5.86406052e-01],\n",
              "       [1.15172796e-01, 1.02080489e-02, 8.74619186e-01],\n",
              "       [9.35984254e-01, 1.46246911e-03, 6.25533238e-02]], dtype=float32)"
            ]
          },
          "metadata": {
            "tags": []
          },
          "execution_count": 141
        }
      ]
    },
    {
      "cell_type": "code",
      "metadata": {
        "id": "pPJzrcBQVR8P"
      },
      "source": [
        "import numpy as np"
      ],
      "execution_count": null,
      "outputs": []
    },
    {
      "cell_type": "code",
      "metadata": {
        "id": "FcUN4jE1TvnA"
      },
      "source": [
        "resf = np.argmax(res,axis=1)"
      ],
      "execution_count": null,
      "outputs": []
    },
    {
      "cell_type": "code",
      "metadata": {
        "id": "vE-bXkCVTvk9"
      },
      "source": [
        "test_id = test.ID\r\n",
        "sub1 = pd.DataFrame()\r\n",
        "sub1['ID'] = test_id\r\n",
        "sub1['score'] = resf\r\n",
        "sub1['score'] = sub1['score'].replace({ 0 : -1 ,1 : 0 , 2 : 1})"
      ],
      "execution_count": null,
      "outputs": []
    },
    {
      "cell_type": "code",
      "metadata": {
        "id": "hHCyJDohTvib"
      },
      "source": [
        "sub1.to_csv('subb.csv', index=False)"
      ],
      "execution_count": null,
      "outputs": []
    },
    {
      "cell_type": "code",
      "metadata": {
        "colab": {
          "base_uri": "https://localhost:8080/"
        },
        "id": "XgNf5Mc6j51X",
        "outputId": "98f0d95d-44bd-41b4-dab1-9ba35cec9fab"
      },
      "source": [
        "result = model.predict(X2,batch_size=1,verbose = 2)"
      ],
      "execution_count": null,
      "outputs": [
        {
          "output_type": "stream",
          "text": [
            "19803/19803 - 611s\n"
          ],
          "name": "stdout"
        }
      ]
    },
    {
      "cell_type": "code",
      "metadata": {
        "colab": {
          "base_uri": "https://localhost:8080/",
          "height": 195
        },
        "id": "nTIbfINYEUjR",
        "outputId": "15f4584d-a6cb-4e0a-a07c-8cd3ab3db557"
      },
      "source": [
        "sub.head()"
      ],
      "execution_count": null,
      "outputs": [
        {
          "output_type": "execute_result",
          "data": {
            "text/html": [
              "<div>\n",
              "<style scoped>\n",
              "    .dataframe tbody tr th:only-of-type {\n",
              "        vertical-align: middle;\n",
              "    }\n",
              "\n",
              "    .dataframe tbody tr th {\n",
              "        vertical-align: top;\n",
              "    }\n",
              "\n",
              "    .dataframe thead th {\n",
              "        text-align: right;\n",
              "    }\n",
              "</style>\n",
              "<table border=\"1\" class=\"dataframe\">\n",
              "  <thead>\n",
              "    <tr style=\"text-align: right;\">\n",
              "      <th></th>\n",
              "      <th>ID</th>\n",
              "      <th>score</th>\n",
              "    </tr>\n",
              "  </thead>\n",
              "  <tbody>\n",
              "    <tr>\n",
              "      <th>0</th>\n",
              "      <td>2</td>\n",
              "      <td>0.765397</td>\n",
              "    </tr>\n",
              "    <tr>\n",
              "      <th>1</th>\n",
              "      <td>8</td>\n",
              "      <td>0.964965</td>\n",
              "    </tr>\n",
              "    <tr>\n",
              "      <th>2</th>\n",
              "      <td>10</td>\n",
              "      <td>0.970238</td>\n",
              "    </tr>\n",
              "    <tr>\n",
              "      <th>3</th>\n",
              "      <td>12</td>\n",
              "      <td>0.461654</td>\n",
              "    </tr>\n",
              "    <tr>\n",
              "      <th>4</th>\n",
              "      <td>13</td>\n",
              "      <td>0.582706</td>\n",
              "    </tr>\n",
              "  </tbody>\n",
              "</table>\n",
              "</div>"
            ],
            "text/plain": [
              "   ID     score\n",
              "0   2  0.765397\n",
              "1   8  0.964965\n",
              "2  10  0.970238\n",
              "3  12  0.461654\n",
              "4  13  0.582706"
            ]
          },
          "metadata": {
            "tags": []
          },
          "execution_count": 93
        }
      ]
    },
    {
      "cell_type": "code",
      "metadata": {
        "colab": {
          "base_uri": "https://localhost:8080/",
          "height": 284
        },
        "id": "BYtE8WogE62S",
        "outputId": "06086aa2-0a58-4e1b-bf8b-25f7cd31d306"
      },
      "source": [
        "sub.describe()"
      ],
      "execution_count": null,
      "outputs": [
        {
          "output_type": "execute_result",
          "data": {
            "text/html": [
              "<div>\n",
              "<style scoped>\n",
              "    .dataframe tbody tr th:only-of-type {\n",
              "        vertical-align: middle;\n",
              "    }\n",
              "\n",
              "    .dataframe tbody tr th {\n",
              "        vertical-align: top;\n",
              "    }\n",
              "\n",
              "    .dataframe thead th {\n",
              "        text-align: right;\n",
              "    }\n",
              "</style>\n",
              "<table border=\"1\" class=\"dataframe\">\n",
              "  <thead>\n",
              "    <tr style=\"text-align: right;\">\n",
              "      <th></th>\n",
              "      <th>ID</th>\n",
              "      <th>score</th>\n",
              "    </tr>\n",
              "  </thead>\n",
              "  <tbody>\n",
              "    <tr>\n",
              "      <th>count</th>\n",
              "      <td>19803.000000</td>\n",
              "      <td>19803.000000</td>\n",
              "    </tr>\n",
              "    <tr>\n",
              "      <th>mean</th>\n",
              "      <td>64822.685098</td>\n",
              "      <td>0.291689</td>\n",
              "    </tr>\n",
              "    <tr>\n",
              "      <th>std</th>\n",
              "      <td>44336.687355</td>\n",
              "      <td>0.334108</td>\n",
              "    </tr>\n",
              "    <tr>\n",
              "      <th>min</th>\n",
              "      <td>2.000000</td>\n",
              "      <td>0.000492</td>\n",
              "    </tr>\n",
              "    <tr>\n",
              "      <th>25%</th>\n",
              "      <td>21825.500000</td>\n",
              "      <td>0.026110</td>\n",
              "    </tr>\n",
              "    <tr>\n",
              "      <th>50%</th>\n",
              "      <td>64969.000000</td>\n",
              "      <td>0.139254</td>\n",
              "    </tr>\n",
              "    <tr>\n",
              "      <th>75%</th>\n",
              "      <td>105200.000000</td>\n",
              "      <td>0.444375</td>\n",
              "    </tr>\n",
              "    <tr>\n",
              "      <th>max</th>\n",
              "      <td>142720.000000</td>\n",
              "      <td>0.999867</td>\n",
              "    </tr>\n",
              "  </tbody>\n",
              "</table>\n",
              "</div>"
            ],
            "text/plain": [
              "                  ID         score\n",
              "count   19803.000000  19803.000000\n",
              "mean    64822.685098      0.291689\n",
              "std     44336.687355      0.334108\n",
              "min         2.000000      0.000492\n",
              "25%     21825.500000      0.026110\n",
              "50%     64969.000000      0.139254\n",
              "75%    105200.000000      0.444375\n",
              "max    142720.000000      0.999867"
            ]
          },
          "metadata": {
            "tags": []
          },
          "execution_count": 95
        }
      ]
    },
    {
      "cell_type": "code",
      "metadata": {
        "id": "49UXe-ZMFfjK"
      },
      "source": [
        "sub1 = sub.copy()"
      ],
      "execution_count": null,
      "outputs": []
    },
    {
      "cell_type": "code",
      "metadata": {
        "id": "CDYKhqjSFnYR"
      },
      "source": [
        "def eval(x):\r\n",
        "  if x <= 0.333333:\r\n",
        "    return 1\r\n",
        "  elif x <= 0.666666:\r\n",
        "    return 0\r\n",
        "  else:\r\n",
        "    return -1"
      ],
      "execution_count": null,
      "outputs": []
    },
    {
      "cell_type": "code",
      "metadata": {
        "id": "P9Tmq76UF-dE"
      },
      "source": [
        "sub1['score'] = sub1['score'].apply(eval)"
      ],
      "execution_count": null,
      "outputs": []
    },
    {
      "cell_type": "code",
      "metadata": {
        "colab": {
          "base_uri": "https://localhost:8080/",
          "height": 195
        },
        "id": "BpvsI4N6GMQU",
        "outputId": "a5f9ab79-971b-4350-b6fa-ef07b45aadd0"
      },
      "source": [
        "sub1.head()"
      ],
      "execution_count": null,
      "outputs": [
        {
          "output_type": "execute_result",
          "data": {
            "text/html": [
              "<div>\n",
              "<style scoped>\n",
              "    .dataframe tbody tr th:only-of-type {\n",
              "        vertical-align: middle;\n",
              "    }\n",
              "\n",
              "    .dataframe tbody tr th {\n",
              "        vertical-align: top;\n",
              "    }\n",
              "\n",
              "    .dataframe thead th {\n",
              "        text-align: right;\n",
              "    }\n",
              "</style>\n",
              "<table border=\"1\" class=\"dataframe\">\n",
              "  <thead>\n",
              "    <tr style=\"text-align: right;\">\n",
              "      <th></th>\n",
              "      <th>ID</th>\n",
              "      <th>score</th>\n",
              "    </tr>\n",
              "  </thead>\n",
              "  <tbody>\n",
              "    <tr>\n",
              "      <th>0</th>\n",
              "      <td>2</td>\n",
              "      <td>-1</td>\n",
              "    </tr>\n",
              "    <tr>\n",
              "      <th>1</th>\n",
              "      <td>8</td>\n",
              "      <td>-1</td>\n",
              "    </tr>\n",
              "    <tr>\n",
              "      <th>2</th>\n",
              "      <td>10</td>\n",
              "      <td>-1</td>\n",
              "    </tr>\n",
              "    <tr>\n",
              "      <th>3</th>\n",
              "      <td>12</td>\n",
              "      <td>0</td>\n",
              "    </tr>\n",
              "    <tr>\n",
              "      <th>4</th>\n",
              "      <td>13</td>\n",
              "      <td>0</td>\n",
              "    </tr>\n",
              "  </tbody>\n",
              "</table>\n",
              "</div>"
            ],
            "text/plain": [
              "   ID  score\n",
              "0   2     -1\n",
              "1   8     -1\n",
              "2  10     -1\n",
              "3  12      0\n",
              "4  13      0"
            ]
          },
          "metadata": {
            "tags": []
          },
          "execution_count": 122
        }
      ]
    },
    {
      "cell_type": "code",
      "metadata": {
        "id": "ws7BckJ5GO6p"
      },
      "source": [
        "sub1.to_csv('sub12.csv', index=False)"
      ],
      "execution_count": null,
      "outputs": []
    },
    {
      "cell_type": "code",
      "metadata": {
        "id": "6TZDaVCqftE6"
      },
      "source": [
        ""
      ],
      "execution_count": null,
      "outputs": []
    }
  ]
}